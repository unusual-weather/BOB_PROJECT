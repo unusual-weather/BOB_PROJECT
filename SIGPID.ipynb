{
 "cells": [
  {
   "cell_type": "code",
   "execution_count": 1,
   "metadata": {},
   "outputs": [],
   "source": [
    "from androguard.misc import APK\n",
    "import os\n",
    "import pandas as pd\n",
    "\n",
    "TARGET = \"D:\\\\download\\\\benign\"\n",
    "RESULT = \"D:\\\\download\\\\script\"\n",
    "\n",
    "\n",
    "SIGPID =[\"android.permission.ACCESS_WIFI_STATE\",\n",
    "         \"android.permission.CAMERA\",\n",
    "         \"android.permission.CHANGE_NETWORK_STATE\",\n",
    "         \"android.permission.CHANGE_WIFI_STATE\",\n",
    "         \"android.permission.DISABLE_KEYGUARD\",\n",
    "         \"android.permission.GET_TASKS\",\n",
    "         \"android.permission.INSTALL_PACKAGES\",\n",
    "         \"android.permission.READ_CALL_LOG\",\n",
    "         \"android.permission.READ_CONTACTS\",\n",
    "         \"android.permission.READ_EXTERNAL_STORAGE\",\n",
    "         \"android.permission.READ_HISTORY_BOOKMARKS\",\n",
    "         \"android.permission.READ_LOGS\",\n",
    "         \"android.permission.READ_PHONE_STATE\",\n",
    "         \"android.permission.READ_SMS\",\n",
    "         \"android.permission.RECEIVE_BOOT_COMPLETED\",\n",
    "         \"android.permission.RESTART_PACKAGES\",\n",
    "         \"android.permission.SEND_SMS\",\n",
    "         \"android.permission.SET_WALLPAPER\",\n",
    "         \"android.permission.SYSTEM_ALERT_WINDOW\",\n",
    "         \"android.permission.WRITE_APN_SETTINGS\",\n",
    "         \"android.permission.WRITE_CONTACTS\",\n",
    "         \"android.permission.WRITE_SETTINGS\",\n",
    "         ]\n",
    "\n",
    "dataset = pd.DataFrame(columns=SIGPID)\n",
    "\n"
   ]
  },
  {
   "cell_type": "code",
   "execution_count": 4,
   "metadata": {},
   "outputs": [
    {
     "name": "stdout",
     "output_type": "stream",
     "text": [
      "{\"android.permission.ACCESS_WIFI_STATE\":{},\"android.permission.CAMERA\":{},\"android.permission.CHANGE_NETWORK_STATE\":{},\"android.permission.CHANGE_WIFI_STATE\":{},\"android.permission.DISABLE_KEYGUARD\":{},\"android.permission.GET_TASKS\":{},\"android.permission.INSTALL_PACKAGES\":{},\"android.permission.READ_CALL_LOG\":{},\"android.permission.READ_CONTACTS\":{},\"android.permission.READ_EXTERNAL_STORAGE\":{},\"android.permission.READ_HISTORY_BOOKMARKS\":{},\"android.permission.READ_LOGS\":{},\"android.permission.READ_PHONE_STATE\":{},\"android.permission.READ_SMS\":{},\"android.permission.RECEIVE_BOOT_COMPLETED\":{},\"android.permission.RESTART_PACKAGES\":{},\"android.permission.SEND_SMS\":{},\"android.permission.SET_WALLPAPER\":{},\"android.permission.SYSTEM_ALERT_WINDOW\":{},\"android.permission.WRITE_APN_SETTINGS\":{},\"android.permission.WRITE_CONTACTS\":{},\"android.permission.WRITE_SETTINGS\":{}}\n"
     ]
    }
   ],
   "source": [
    "print(dataset.to_json())"
   ]
  },
  {
   "cell_type": "code",
   "execution_count": 23,
   "metadata": {},
   "outputs": [
    {
     "name": "stderr",
     "output_type": "stream",
     "text": [
      "Requested API Level could not be found, using 10 instead\n",
      "Requested API Level could not be found, using 10 instead\n",
      "Requested API Level could not be found, using 10 instead\n",
      "Requested API Level could not be found, using 10 instead\n",
      "Requested API Level could not be found, using 10 instead\n",
      "Requested API Level could not be found, using 19 instead\n",
      "Requested API Level could not be found, using 10 instead\n"
     ]
    }
   ],
   "source": [
    "dataset_tmp = {}\n",
    "cnt=0\n",
    "for i in os.listdir(TARGET):\n",
    "    try:\n",
    "        a = APK(TARGET+\"\\\\\"+i)\n",
    "    except:\n",
    "        continue\n",
    "    perms = a.get_permissions()\n",
    "    for k in SIGPID:\n",
    "        if k in perms:\n",
    "            dataset_tmp[k] = 1\n",
    "        else:\n",
    "            dataset_tmp[k] = 0\n",
    "        dataset_tmp['famil']=0\n",
    "    dataset = dataset.append(dataset_tmp,ignore_index=True)\n",
    "    cnt+=1\n",
    "    if cnt > 20477:\n",
    "        break\n",
    "   \n",
    "dataset.to_csv(\"output_pd.csv\",index=None)       "
   ]
  },
  {
   "cell_type": "code",
   "execution_count": 26,
   "metadata": {},
   "outputs": [],
   "source": [
    "from sklearn.ensemble import RandomForestClassifier\n",
    "from sklearn.model_selection import train_test_split\n",
    "from sklearn.metrics import accuracy_score, classification_report\n",
    "import warnings\n",
    "import random\n",
    "warnings.filterwarnings(action='ignore')\n",
    "\n",
    "feature_vector=[]\n",
    "\n",
    "with open('C:\\\\PROJECT\\\\parser\\\\new\\\\output_pd.csv','r') as fp:\n",
    "\tfor i,line in enumerate(fp):\n",
    "\t\tif i == 0:\n",
    "\t\t\tpass\n",
    "\t\telse:\n",
    "\t\t\tfeature_vector.append([x.strip() for x in line.split(',')])\n",
    "\n",
    "random.shuffle(feature_vector)"
   ]
  },
  {
   "cell_type": "code",
   "execution_count": 27,
   "metadata": {},
   "outputs": [],
   "source": [
    "X = [x[:-1] for x in feature_vector]\n",
    "Y = [y[-1] for y in feature_vector]\n",
    "X_train, X_test, y_train, y_test = train_test_split(X, Y, train_size=0.8, test_size=0.2, random_state=0)"
   ]
  },
  {
   "cell_type": "code",
   "execution_count": 28,
   "metadata": {},
   "outputs": [
    {
     "data": {
      "text/plain": [
       "RandomForestClassifier(criterion='entropy', n_estimators=1000, random_state=0)"
      ]
     },
     "execution_count": 28,
     "metadata": {},
     "output_type": "execute_result"
    }
   ],
   "source": [
    "rf = RandomForestClassifier(n_estimators=1000, random_state=0, criterion=\"entropy\")\n",
    "rf.fit(X_train,y_train)"
   ]
  },
  {
   "cell_type": "code",
   "execution_count": 29,
   "metadata": {},
   "outputs": [],
   "source": [
    "y_pred=rf.predict(X_test)\n",
    "rf_predictions = rf.predict(X_test) "
   ]
  },
  {
   "cell_type": "code",
   "execution_count": 30,
   "metadata": {},
   "outputs": [
    {
     "name": "stdout",
     "output_type": "stream",
     "text": [
      "              precision    recall  f1-score   support\n",
      "\n",
      "           0       0.93      0.97      0.95      1866\n",
      "           1       0.96      0.93      0.95      1861\n",
      "\n",
      "    accuracy                           0.95      3727\n",
      "   macro avg       0.95      0.95      0.95      3727\n",
      "weighted avg       0.95      0.95      0.95      3727\n",
      "\n"
     ]
    }
   ],
   "source": [
    "print(classification_report(y_test, rf_predictions)) "
   ]
  }
 ],
 "metadata": {
  "kernelspec": {
   "display_name": "Python 3.6.13 ('AG')",
   "language": "python",
   "name": "python3"
  },
  "language_info": {
   "codemirror_mode": {
    "name": "ipython",
    "version": 3
   },
   "file_extension": ".py",
   "mimetype": "text/x-python",
   "name": "python",
   "nbconvert_exporter": "python",
   "pygments_lexer": "ipython3",
   "version": "3.6.13"
  },
  "orig_nbformat": 4,
  "vscode": {
   "interpreter": {
    "hash": "4e1adfcce5a93f319e84e0697b2bbe40ecf2eedab25913103b8fbd2f9af0be5b"
   }
  }
 },
 "nbformat": 4,
 "nbformat_minor": 2
}
